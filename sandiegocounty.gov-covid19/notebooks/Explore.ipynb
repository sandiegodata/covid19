{
 "cells": [
  {
   "cell_type": "code",
   "execution_count": 1,
   "metadata": {},
   "outputs": [],
   "source": [
    "import seaborn as sns\n",
    "import metapack as mp\n",
    "import pandas as pd\n",
    "import numpy as np\n",
    "import matplotlib.pyplot as plt\n",
    "from IPython.display import display \n",
    "\n",
    "%matplotlib inline\n",
    "sns.set_context('notebook')\n",
    "mp.jupyter.init()\n"
   ]
  },
  {
   "cell_type": "code",
   "execution_count": 2,
   "metadata": {},
   "outputs": [
    {
     "data": {
      "text/html": [
       "<h1>COVID 19 Statistics San Diego County</h1>\n",
       "<p><code>sandiegocounty.gov-covid19-1.1.5</code> Last Update: 2020-04-29T21:30:11</p>\n",
       "<p><em>Official COVID-19 statistics for San Diego County.</em></p>\n",
       "<h2>Contacts</h2>\n",
       "<ul>\n",
       "<li><strong>Wrangler</strong> <a href=\"mailto:eric@civicknowledge.com\">Eric Busboom</a>, <a href=\"http://civicknowledge.com\">Civic Knowledge</a></li>\n",
       "<li><strong>Origin</strong> County of San Diego, Health and Human Services Agency, Public Health Services, Epidemiology and Immunization Services Branch</li>\n",
       "</ul>\n",
       "<h2>Resources</h2>\n",
       "<ul>\n",
       "<li><strong> <a href=\"data/covid_stats.csv\">covid_stats</a></strong>. COVID-19 cases in San Diego County, by sex and age</li>\n",
       "<li><strong> <a href=\"data/covid_jurisdiction.csv\">covid_jurisdiction</a></strong>. COVID-19 cases by San Diego jurisdiction</li>\n",
       "<li><strong> <a href=\"data/covid_jurisdiction_geo.csv\">covid_jurisdiction_geo</a></strong>. COVID-19 cases by San Diego jurisdiction, geographic</li>\n",
       "<li><strong> <a href=\"data/covid_zip.csv\">covid_zip</a></strong>. COVID-19 cases by zip code</li>\n",
       "<li><strong> <a href=\"data/covid_zip_geo.csv\">covid_zip_geo</a></strong>. COVID-19 cases by zip code, geographic</li>\n",
       "</ul>"
      ],
      "text/plain": [
       "# COVID 19 Statistics San Diego County\n",
       "`sandiegocounty.gov-covid19-1.1.5` Last Update: 2020-04-29T21:30:11\n",
       "\n",
       "_Official COVID-19 statistics for San Diego County._\n",
       "\n",
       "\n",
       "\n",
       "\n",
       " \n",
       "\n",
       "## Contacts\n",
       "\n",
       "* **Wrangler** [Eric Busboom](mailto:eric@civicknowledge.com), [Civic Knowledge](http://civicknowledge.com)\n",
       "* **Origin** County of San Diego, Health and Human Services Agency, Public Health Services, Epidemiology and Immunization Services Branch\n",
       "\n",
       "## Resources\n",
       "\n",
       "* ** [covid_stats](data/covid_stats.csv)**. COVID-19 cases in San Diego County, by sex and age\n",
       "* ** [covid_jurisdiction](data/covid_jurisdiction.csv)**. COVID-19 cases by San Diego jurisdiction\n",
       "* ** [covid_jurisdiction_geo](data/covid_jurisdiction_geo.csv)**. COVID-19 cases by San Diego jurisdiction, geographic\n",
       "* ** [covid_zip](data/covid_zip.csv)**. COVID-19 cases by zip code\n",
       "* ** [covid_zip_geo](data/covid_zip_geo.csv)**. COVID-19 cases by zip code, geographic\n"
      ]
     },
     "execution_count": 2,
     "metadata": {},
     "output_type": "execute_result"
    }
   ],
   "source": [
    "#pkg = mp.jupyter.open_package()\n",
    "#pkg = mp.jupyter.open_source_package()\n",
    "pkg = mp.open_package('../_packages/sandiegocounty.gov-covid19-1.1.5/')\n",
    "pkg"
   ]
  },
  {
   "cell_type": "code",
   "execution_count": 4,
   "metadata": {},
   "outputs": [],
   "source": [
    "# Create Dataframes\n",
    "covid_stats_df = pkg.resource('covid_stats').dataframe()\n",
    "covid_jurisdiction_df = pkg.resource('covid_jurisdiction').dataframe()\n",
    "covid_jurisdiction_geo_gdf = pkg.resource('covid_jurisdiction_geo').geoframe()\n",
    "covid_zip_df = pkg.resource('covid_zip').dataframe()\n",
    "covid_zip_geo_gdf = pkg.resource('covid_zip_geo').geoframe()"
   ]
  },
  {
   "cell_type": "code",
   "execution_count": 5,
   "metadata": {},
   "outputs": [
    {
     "data": {
      "text/plain": [
       "<matplotlib.axes._subplots.AxesSubplot at 0x7fd800dbb2e8>"
      ]
     },
     "execution_count": 5,
     "metadata": {},
     "output_type": "execute_result"
    },
    {
     "data": {
      "image/png": "[encoded data removed]",
      "text/plain": [
       "<Figure size 432x288 with 1 Axes>"
      ]
     },
     "metadata": {
      "needs_background": "light"
     },
     "output_type": "display_data"
    }
   ],
   "source": [
    "covid_zip_geo_gdf.plot()"
   ]
  },
  {
   "cell_type": "code",
   "execution_count": 6,
   "metadata": {},
   "outputs": [
    {
     "data": {
      "text/plain": [
       "<matplotlib.axes._subplots.AxesSubplot at 0x7fd830b19828>"
      ]
     },
     "execution_count": 6,
     "metadata": {},
     "output_type": "execute_result"
    },
    {
     "data": {
      "image/png": "[encoded data removed]",
      "text/plain": [
       "<Figure size 432x288 with 1 Axes>"
      ]
     },
     "metadata": {
      "needs_background": "light"
     },
     "output_type": "display_data"
    }
   ],
   "source": [
    "covid_jurisdiction_geo_gdf.plot()"
   ]
  },
  {
   "cell_type": "code",
   "execution_count": null,
   "metadata": {},
   "outputs": [],
   "source": []
  }
 ],
 "metadata": {
  "kernelspec": {
   "display_name": "Python 3",
   "language": "python",
   "name": "python3"
  },
  "language_info": {
   "codemirror_mode": {
    "name": "ipython",
    "version": 3
   },
   "file_extension": ".py",
   "mimetype": "text/x-python",
   "name": "python",
   "nbconvert_exporter": "python",
   "pygments_lexer": "ipython3",
   "version": "3.6.9"
  }
 },
 "nbformat": 4,
 "nbformat_minor": 4
}
