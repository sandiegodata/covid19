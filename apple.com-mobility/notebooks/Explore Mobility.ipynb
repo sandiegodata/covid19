{
 "cells": [
  {
   "cell_type": "code",
   "execution_count": 2,
   "metadata": {},
   "outputs": [],
   "source": [
    "import seaborn as sns\n",
    "import metapack as mp\n",
    "import pandas as pd\n",
    "import numpy as np\n",
    "import matplotlib.pyplot as plt\n",
    "from IPython.display import display \n",
    "\n",
    "%matplotlib inline\n",
    "sns.set_context('notebook')\n",
    "mp.jupyter.init()\n"
   ]
  },
  {
   "cell_type": "code",
   "execution_count": 3,
   "metadata": {},
   "outputs": [
    {
     "data": {
      "text/html": [
       "<h1>Apple Mobility Data</h1>\n",
       "<p><code>apple.com-mobility-1.1.1</code> Last Update: 2020-05-02T23:50:06</p>\n",
       "<p><em>Movement activity based on Apple maps</em></p>\n",
       "<p>Relative changes in people driving based on Apple Maps. The\n",
       "data is worldwide for dates from late January to present.</p>\n",
       "<h2>Documentation Links</h2>\n",
       "<ul>\n",
       "<li><a href=\"https://www.apple.com/covid19/mobility\">homepage</a> </li>\n",
       "</ul>\n",
       "<h2>Contacts</h2>\n",
       "<ul>\n",
       "<li><strong>Wrangler</strong> <a href=\"mailto:eric@civicknowledge.com\">Eric Busboom</a>, <a href=\"http://civicknowledge.com\">Civic Knowledge</a></li>\n",
       "</ul>\n",
       "<h2>Resources</h2>\n",
       "<ul>\n",
       "<li><strong> <a href=\"data/mobility.csv\">mobility</a></strong>. Mobility data from Apple Maps</li>\n",
       "</ul>"
      ],
      "text/plain": [
       "# Apple Mobility Data\n",
       "`apple.com-mobility-1.1.1` Last Update: 2020-05-02T23:50:06\n",
       "\n",
       "_Movement activity based on Apple maps_\n",
       "\n",
       "\n",
       "Relative changes in people driving based on Apple Maps. The\n",
       "data is worldwide for dates from late January to present.\n",
       "## Documentation Links\n",
       "\n",
       "* [homepage](https://www.apple.com/covid19/mobility) \n",
       "\n",
       " \n",
       "\n",
       "## Contacts\n",
       "\n",
       "* **Wrangler** [Eric Busboom](mailto:eric@civicknowledge.com), [Civic Knowledge](http://civicknowledge.com)\n",
       "\n",
       "## Resources\n",
       "\n",
       "* ** [mobility](data/mobility.csv)**. Mobility data from Apple Maps\n"
      ]
     },
     "execution_count": 3,
     "metadata": {},
     "output_type": "execute_result"
    }
   ],
   "source": [
    "pkg = mp.jupyter.open_package()\n",
    "#pkg = mp.jupyter.open_source_package()\n",
    "pkg"
   ]
  },
  {
   "cell_type": "code",
   "execution_count": 4,
   "metadata": {},
   "outputs": [],
   "source": [
    "df = pkg.resource('mobility').dataframe()"
   ]
  },
  {
   "cell_type": "code",
   "execution_count": 15,
   "metadata": {},
   "outputs": [
    {
     "data": {
      "text/plain": [
       "0         2020_01_13\n",
       "1         2020_01_14\n",
       "2         2020_01_15\n",
       "3         2020_01_16\n",
       "4         2020_01_17\n",
       "             ...    \n",
       "123085    2020_04_27\n",
       "123086    2020_04_28\n",
       "123087    2020_04_29\n",
       "123088    2020_04_30\n",
       "123089    2020_05_01\n",
       "Name: date, Length: 123090, dtype: object"
      ]
     },
     "execution_count": 15,
     "metadata": {},
     "output_type": "execute_result"
    }
   ],
   "source": [
    "l = df.set_index(list(df.columns)[0:4]).stack().to_frame('value').reset_index().rename(columns={'level_4':'date'})\n",
    "l.date.re"
   ]
  },
  {
   "cell_type": "code",
   "execution_count": null,
   "metadata": {},
   "outputs": [],
   "source": []
  }
 ],
 "metadata": {
  "kernelspec": {
   "display_name": "Python 3",
   "language": "python",
   "name": "python3"
  },
  "language_info": {
   "codemirror_mode": {
    "name": "ipython",
    "version": 3
   },
   "file_extension": ".py",
   "mimetype": "text/x-python",
   "name": "python",
   "nbconvert_exporter": "python",
   "pygments_lexer": "ipython3",
   "version": "3.6.9"
  }
 },
 "nbformat": 4,
 "nbformat_minor": 4
}
