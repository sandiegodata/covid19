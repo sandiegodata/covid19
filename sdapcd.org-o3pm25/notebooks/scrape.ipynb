{
 "cells": [
  {
   "cell_type": "code",
   "execution_count": 14,
   "metadata": {},
   "outputs": [],
   "source": [
    "import seaborn as sns\n",
    "import metapack as mp\n",
    "import pandas as pd\n",
    "import numpy as np\n",
    "import matplotlib.pyplot as plt\n",
    "from IPython.display import display \n",
    "\n",
    "%matplotlib inline\n",
    "sns.set_context('notebook')\n",
    "mp.jupyter.init()\n",
    "\n",
    "from urllib.parse import urlparse\n",
    "from pathlib import Path\n",
    "import urllib.request \n",
    "from tqdm import tqdm"
   ]
  },
  {
   "cell_type": "code",
   "execution_count": 9,
   "metadata": {},
   "outputs": [
    {
     "data": {
      "text/html": [
       "<p><code>sdapcd.org-o3pm25-1.1.1</code> Last Update: 2020-05-05T20:40:16</p>\n",
       "<p>__</p>\n",
       "<p>Home page:  https://www.sdapcd.org/content/sdc/apcd/en/CurrentAirQuality.html</p>\n",
       "<p>Data: http://jtimmer.cts.com/2015/Apr15/</p>\n",
       "<h2>Contacts</h2>\n",
       "<ul>\n",
       "<li><strong>Wrangler</strong> <a href=\"mailto:eric@civicknowledge.com\">Eric Busboom</a>, <a href=\"http://civicknowledge.com\">Civic Knowledge</a></li>\n",
       "</ul>"
      ],
      "text/plain": [
       "\n",
       "`sdapcd.org-o3pm25-1.1.1` Last Update: 2020-05-05T20:40:16\n",
       "\n",
       "__\n",
       "\n",
       "\n",
       "Home page:  https://www.sdapcd.org/content/sdc/apcd/en/CurrentAirQuality.html\n",
       "\n",
       "Data: http://jtimmer.cts.com/2015/Apr15/\n",
       "\n",
       "\n",
       " \n",
       "\n",
       "## Contacts\n",
       "\n",
       "* **Wrangler** [Eric Busboom](mailto:eric@civicknowledge.com), [Civic Knowledge](http://civicknowledge.com)\n",
       "\n"
      ]
     },
     "execution_count": 9,
     "metadata": {},
     "output_type": "execute_result"
    }
   ],
   "source": [
    "pkg = mp.jupyter.open_package()\n",
    "#pkg = mp.jupyter.open_source_package()\n",
    "pkg"
   ]
  },
  {
   "cell_type": "code",
   "execution_count": 2,
   "metadata": {},
   "outputs": [
    {
     "name": "stdout",
     "output_type": "stream",
     "text": [
      "^C\n"
     ]
    }
   ],
   "source": [
    "!wget -q --mirror --convert-links --adjust-extension --page-requisites --no-parent -P ../mirror http://jtimmer.cts.com/"
   ]
  },
  {
   "cell_type": "code",
   "execution_count": 19,
   "metadata": {},
   "outputs": [],
   "source": [
    "# Set the URL you want to webscrape from\n",
    "base_url = 'http://jtimmer.cts.com/'\n",
    "\n",
    "def scrape_page(url, seen):\n",
    "    csv_files = []\n",
    "    sub_dirs = []\n",
    "\n",
    "    if url in seen:\n",
    "        return [], []\n",
    "    \n",
    "    # Connect to the URL\n",
    "    response = requests.get(url)\n",
    "    seen.add(url)\n",
    "    # Parse HTML and save to BeautifulSoup object¶\n",
    "    soup = BeautifulSoup(response.text, \"html.parser\")\n",
    "    \n",
    "    for atag in soup.findAll('a'):  #'a' tags are for links\n",
    "        link = atag['href']\n",
    "        link_url  = url.strip('/')+'/'+link\n",
    "\n",
    "        if '.csv' in link_url.lower():\n",
    "            csv_files.append(link_url)\n",
    "        elif link_url.endswith('/') and link_url not in seen:\n",
    "            sub_dirs.append(link_url)\n",
    "        \n",
    "    \n",
    "    return csv_files, sub_dirs\n",
    "\n",
    "def get_csv_urls(base_url):\n",
    "    seen = set()\n",
    "    csv_files = []\n",
    "    sub_dirs = []\n",
    "\n",
    "    url = base_url\n",
    "    while True:\n",
    "\n",
    "        cf, sd = scrape_page(url, seen)\n",
    "        csv_files += cf\n",
    "        sub_dirs += sd\n",
    "\n",
    "        if not sub_dirs:\n",
    "            break\n",
    "\n",
    "        url = sub_dirs.pop(0)\n",
    "        \n",
    "    return csv_files\n",
    "        \n",
    "csv_files = get_csv_urls(base_url)\n",
    "    "
   ]
  },
  {
   "cell_type": "code",
   "execution_count": 20,
   "metadata": {},
   "outputs": [
    {
     "data": {
      "text/plain": [
       "4983"
      ]
     },
     "execution_count": 20,
     "metadata": {},
     "output_type": "execute_result"
    }
   ],
   "source": [
    "len(csv_files)"
   ]
  },
  {
   "cell_type": "code",
   "execution_count": 16,
   "metadata": {},
   "outputs": [
    {
     "name": "stderr",
     "output_type": "stream",
     "text": [
      "\n",
      "100%|██████████| 1768/1768 [00:00<00:00, 1254742.72it/s]\n"
     ]
    }
   ],
   "source": [
    "def split_name(url):\n",
    "    o = urlparse(url)\n",
    "    parts = Path(o.path).name.split('_')\n",
    "    return parts[-1]\n",
    "\n",
    "d = Path('../mirror')\n",
    "\n",
    "files = list(d.glob('**/*.CSV'))\n",
    "\n",
    "for f in tqdm(files):\n",
    "    if '/8_' not in f.name and 'current' not in f.name:\n",
    "        pass #print(split_name(str(f)))\n",
    "        \n",
    "\n"
   ]
  }
 ],
 "metadata": {
  "kernelspec": {
   "display_name": "Python 3",
   "language": "python",
   "name": "python3"
  },
  "language_info": {
   "codemirror_mode": {
    "name": "ipython",
    "version": 3
   },
   "file_extension": ".py",
   "mimetype": "text/x-python",
   "name": "python",
   "nbconvert_exporter": "python",
   "pygments_lexer": "ipython3",
   "version": "3.6.9"
  }
 },
 "nbformat": 4,
 "nbformat_minor": 4
}
