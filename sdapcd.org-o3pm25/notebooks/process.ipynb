{
 "cells": [
  {
   "cell_type": "code",
   "execution_count": 1,
   "metadata": {},
   "outputs": [],
   "source": [
    "import seaborn as sns\n",
    "import metapack as mp\n",
    "import pandas as pd\n",
    "import numpy as np\n",
    "import matplotlib.pyplot as plt\n",
    "from IPython.display import display \n",
    "\n",
    "%matplotlib inline\n",
    "sns.set_context('notebook')\n",
    "mp.jupyter.init()\n",
    "\n",
    "from pandas.plotting import register_matplotlib_converters\n",
    "register_matplotlib_converters()\n",
    "\n",
    "import pathlib\n",
    "from dateutil.parser import parse\n",
    "import csv\n",
    "from io import StringIO\n",
    "from statsmodels.nonparametric.smoothers_lowess import lowess"
   ]
  },
  {
   "cell_type": "code",
   "execution_count": 2,
   "metadata": {},
   "outputs": [
    {
     "data": {
      "text/html": [
       "<h1>San Diego Air Quality</h1>\n",
       "<p><code>sdapcd.org-o3pm25-1.1.1</code> Last Update: 2020-05-06T22:22:49</p>\n",
       "<p><em>Seven years of hourly data from a set of air pollution monitors in San Diego County</em></p>\n",
       "<p>Home page:  https://www.sdapcd.org/content/sdc/apcd/en/CurrentAirQuality.html</p>\n",
       "<p>Data: http://jtimmer.cts.com/2015/Apr15/</p>\n",
       "<h2>Documentation Links</h2>\n",
       "<ul>\n",
       "<li><a href=\"https://www.sdapcd.org/content/dam/sdc/apcd/PDF/Misc/APCD_Pollutant_Data_Definitions.pdf\">pollutants</a> Data definitions</li>\n",
       "<li><a href=\"https://www.sdapcd.org/content/sdc/apcd/en/CurrentAirQuality.html\">homepage</a> Data home page</li>\n",
       "<li><a href=\"http://jtimmer.cts.com\">downloads</a> Web directory of files</li>\n",
       "</ul>\n",
       "<h2>Contacts</h2>\n",
       "<ul>\n",
       "<li><strong>Wrangler</strong> <a href=\"mailto:eric@civicknowledge.com\">Eric Busboom</a>, <a href=\"http://civicknowledge.com\">Civic Knowledge</a></li>\n",
       "</ul>\n",
       "<h2>Resources</h2>\n",
       "<ul>\n",
       "<li><strong> <a href=\"notebooks/process.ipynb#daily\">daily_pollution</a></strong>. Air pollution daily summary records</li>\n",
       "<li><strong> <a href=\"notebooks/process.ipynb#hourly\">hourly_pollution</a></strong>. Air pollution hourly records</li>\n",
       "</ul>"
      ],
      "text/plain": [
       "# San Diego Air Quality\n",
       "`sdapcd.org-o3pm25-1.1.1` Last Update: 2020-05-06T22:22:49\n",
       "\n",
       "_Seven years of hourly data from a set of air pollution monitors in San Diego County_\n",
       "\n",
       "\n",
       "Home page:  https://www.sdapcd.org/content/sdc/apcd/en/CurrentAirQuality.html\n",
       "\n",
       "Data: http://jtimmer.cts.com/2015/Apr15/\n",
       "## Documentation Links\n",
       "\n",
       "* [pollutants](https://www.sdapcd.org/content/dam/sdc/apcd/PDF/Misc/APCD_Pollutant_Data_Definitions.pdf) Data definitions\n",
       "* [homepage](https://www.sdapcd.org/content/sdc/apcd/en/CurrentAirQuality.html) Data home page\n",
       "* [downloads](http://jtimmer.cts.com) Web directory of files\n",
       "\n",
       " \n",
       "\n",
       "## Contacts\n",
       "\n",
       "* **Wrangler** [Eric Busboom](mailto:eric@civicknowledge.com), [Civic Knowledge](http://civicknowledge.com)\n",
       "\n",
       "## Resources\n",
       "\n",
       "* ** [daily_pollution](notebooks/process.ipynb#daily)**. Air pollution daily summary records\n",
       "* ** [hourly_pollution](notebooks/process.ipynb#hourly)**. Air pollution hourly records\n"
      ]
     },
     "execution_count": 2,
     "metadata": {},
     "output_type": "execute_result"
    }
   ],
   "source": [
    "#pkg = mp.jupyter.open_package()\n",
    "pkg = mp.jupyter.open_source_package()\n",
    "pkg"
   ]
  },
  {
   "cell_type": "code",
   "execution_count": 3,
   "metadata": {},
   "outputs": [
    {
     "name": "stdout",
     "output_type": "stream",
     "text": [
      "CPU times: user 2 µs, sys: 0 ns, total: 2 µs\n",
      "Wall time: 3.1 µs\n"
     ]
    }
   ],
   "source": [
    "%%time \n",
    "# Update the cached copy of the website. \n",
    "#!wget -q --mirror --convert-links --adjust-extension --page-requisites --no-parent -P ../mirror http://jtimmer.cts.com/"
   ]
  },
  {
   "cell_type": "code",
   "execution_count": 4,
   "metadata": {},
   "outputs": [
    {
     "name": "stdout",
     "output_type": "stream",
     "text": [
      "ERROR No Start Line in  ../mirror/jtimmer.cts.com/2014/Oct14/yesterday_20141025.CSV\n",
      "ERROR No Start Line in  ../mirror/jtimmer.cts.com/2014/Oct14/yesterday_20141024.CSV\n",
      "ERROR No Start Line in  ../mirror/jtimmer.cts.com/2014/Oct14/yesterday_20141026.CSV\n",
      "ERROR No Start Line in  ../mirror/jtimmer.cts.com/2014/Oct14/yesterday_20141027.CSV\n",
      "ERROR No Start Line in  ../mirror/jtimmer.cts.com/2014/Oct14/yesterday_20141023.CSV\n",
      "ERROR No Start Line in  ../mirror/jtimmer.cts.com/2014/Oct14/yesterday_20141022.CSV\n"
     ]
    }
   ],
   "source": [
    "from itertools import zip_longest\n",
    "\n",
    "def seq_index(a, b):\n",
    "    return [(i, i+len(b)) for i in range(len(a)) if a[i:i+len(b)] == b]\n",
    "    \n",
    "    \n",
    "def find_start_line(d):\n",
    "    '''Find the header that marks the start of data'''\n",
    "    h = [ str(e) for e in list(range(24))] # look for the line with the hours 0...23\n",
    "    \n",
    "    for i in range(10):\n",
    "        if seq_index(d[i], h):\n",
    "            return i\n",
    "    \n",
    "    return None\n",
    "\n",
    "header_map = {\n",
    "    'RDS':'Hr. of Max'  ,\n",
    "    'Site Name': 'SiteName'\n",
    "}\n",
    "\n",
    "gauge = None\n",
    "frames = []\n",
    "for i, file in enumerate(pathlib.Path('../mirror').glob(\"**/*.CSV\")):\n",
    "    \n",
    "    if file.name.startswith('8_') or 'current' in file.name: # 8 hour average files\n",
    "        continue\n",
    "\n",
    "    parts = file.stem.split('_')\n",
    "    \n",
    "    # Filenames are one day after \n",
    "    date = parse(parts[-1]).date() - pd.to_timedelta(1, unit='d')\n",
    "    data = list(csv.reader(file.open(encoding='latin1')))\n",
    "    \n",
    "    sl = find_start_line(data)\n",
    "\n",
    "\n",
    "    if sl is None:\n",
    "        print(\"ERROR No Start Line in \", file)\n",
    "        continue\n",
    "    \n",
    "    data = data[sl:]\n",
    "    \n",
    "    # Check that the header is the same for every file. \n",
    "    header = list( a if a else b for a,b in zip_longest(data[0], data[1]) )\n",
    "    header = [ header_map.get(e,e) for e in header]\n",
    "    headerline = ' '.join(header).strip()\n",
    "    if gauge is None: \n",
    "        gauge = headerline\n",
    "   \n",
    "    if headerline != gauge:\n",
    "        print ('ERROR', file)\n",
    "        print (headerline)\n",
    "        print (gauge)\n",
    "        break\n",
    "    \n",
    "    rows = [ [date]+r for r in data[2:] ]\n",
    "    frames.append(pd.DataFrame(rows, columns = ['date'] + header))\n",
    "    \n",
    "df = pd.concat(frames, ignore_index=True)  \n",
    "df['Parameter'] = df.Parameter.replace('',None).fillna(method='ffill')"
   ]
  },
  {
   "cell_type": "code",
   "execution_count": 5,
   "metadata": {},
   "outputs": [
    {
     "data": {
      "text/html": [
       "<div>\n",
       "<style scoped>\n",
       "    .dataframe tbody tr th:only-of-type {\n",
       "        vertical-align: middle;\n",
       "    }\n",
       "\n",
       "    .dataframe tbody tr th {\n",
       "        vertical-align: top;\n",
       "    }\n",
       "\n",
       "    .dataframe thead th {\n",
       "        text-align: right;\n",
       "    }\n",
       "</style>\n",
       "<table border=\"1\" class=\"dataframe\">\n",
       "  <thead>\n",
       "    <tr style=\"text-align: right;\">\n",
       "      <th></th>\n",
       "      <th></th>\n",
       "      <th></th>\n",
       "      <th>Hr. of Max</th>\n",
       "      <th>Max</th>\n",
       "      <th>Summary</th>\n",
       "    </tr>\n",
       "    <tr>\n",
       "      <th>date</th>\n",
       "      <th>Parameter</th>\n",
       "      <th>SiteName</th>\n",
       "      <th></th>\n",
       "      <th></th>\n",
       "      <th></th>\n",
       "    </tr>\n",
       "  </thead>\n",
       "  <tbody>\n",
       "    <tr>\n",
       "      <th rowspan=\"5\" valign=\"top\">2020-05-04</th>\n",
       "      <th rowspan=\"5\" valign=\"top\">01 OZONE PPM</th>\n",
       "      <th>ALPINE</th>\n",
       "      <td>13</td>\n",
       "      <td>.066</td>\n",
       "      <td>.047</td>\n",
       "    </tr>\n",
       "    <tr>\n",
       "      <th>CHULA VISTA</th>\n",
       "      <td>18</td>\n",
       "      <td>.043</td>\n",
       "      <td>.030</td>\n",
       "    </tr>\n",
       "    <tr>\n",
       "      <th>DOWNTOWN SES</th>\n",
       "      <td>11</td>\n",
       "      <td>.046</td>\n",
       "      <td>.034</td>\n",
       "    </tr>\n",
       "    <tr>\n",
       "      <th>EL CAJON LES</th>\n",
       "      <td>12</td>\n",
       "      <td>.057</td>\n",
       "      <td>.036</td>\n",
       "    </tr>\n",
       "    <tr>\n",
       "      <th>ESCONDIDO</th>\n",
       "      <td></td>\n",
       "      <td></td>\n",
       "      <td></td>\n",
       "    </tr>\n",
       "  </tbody>\n",
       "</table>\n",
       "</div>"
      ],
      "text/plain": [
       "                                     Hr. of Max   Max Summary\n",
       "date       Parameter    SiteName                             \n",
       "2020-05-04 01 OZONE PPM ALPINE               13  .066    .047\n",
       "                        CHULA VISTA          18  .043    .030\n",
       "                        DOWNTOWN SES         11  .046    .034\n",
       "                        EL CAJON LES         12  .057    .036\n",
       "                        ESCONDIDO                            "
      ]
     },
     "execution_count": 5,
     "metadata": {},
     "output_type": "execute_result"
    }
   ],
   "source": [
    "t = df.set_index(['date','Parameter','SiteName'])\n",
    "daily_cols = ['Hr. of Max', 'Max', 'Summary']\n",
    "daily = t[daily_cols].drop_duplicates().copy()\n",
    "daily.head()"
   ]
  },
  {
   "cell_type": "code",
   "execution_count": 6,
   "metadata": {},
   "outputs": [],
   "source": [
    "hourly = df.set_index(['date','Parameter','SiteName']).drop(columns=daily).stack().to_frame('value').reset_index().rename(columns={'level_3':'hour'}).copy()\n",
    "hourly.head()\n",
    "hourly['date'] = hourly.apply(lambda r: r.date.replace(hour=int(r.hour)), axis=1)"
   ]
  },
  {
   "cell_type": "code",
   "execution_count": 7,
   "metadata": {},
   "outputs": [
    {
     "data": {
      "text/html": [
       "<div>\n",
       "<style scoped>\n",
       "    .dataframe tbody tr th:only-of-type {\n",
       "        vertical-align: middle;\n",
       "    }\n",
       "\n",
       "    .dataframe tbody tr th {\n",
       "        vertical-align: top;\n",
       "    }\n",
       "\n",
       "    .dataframe thead th {\n",
       "        text-align: right;\n",
       "    }\n",
       "</style>\n",
       "<table border=\"1\" class=\"dataframe\">\n",
       "  <thead>\n",
       "    <tr style=\"text-align: right;\">\n",
       "      <th></th>\n",
       "      <th>date</th>\n",
       "      <th>Parameter</th>\n",
       "      <th>SiteName</th>\n",
       "      <th>hour</th>\n",
       "      <th>value</th>\n",
       "    </tr>\n",
       "  </thead>\n",
       "  <tbody>\n",
       "    <tr>\n",
       "      <th>0</th>\n",
       "      <td>2020-05-04 00:00:00</td>\n",
       "      <td>01 OZONE PPM</td>\n",
       "      <td>ALPINE</td>\n",
       "      <td>0</td>\n",
       "      <td>0.029</td>\n",
       "    </tr>\n",
       "    <tr>\n",
       "      <th>1</th>\n",
       "      <td>2020-05-04 01:00:00</td>\n",
       "      <td>01 OZONE PPM</td>\n",
       "      <td>ALPINE</td>\n",
       "      <td>1</td>\n",
       "      <td>0.034</td>\n",
       "    </tr>\n",
       "    <tr>\n",
       "      <th>2</th>\n",
       "      <td>2020-05-04 02:00:00</td>\n",
       "      <td>01 OZONE PPM</td>\n",
       "      <td>ALPINE</td>\n",
       "      <td>2</td>\n",
       "      <td>NaN</td>\n",
       "    </tr>\n",
       "    <tr>\n",
       "      <th>3</th>\n",
       "      <td>2020-05-04 03:00:00</td>\n",
       "      <td>01 OZONE PPM</td>\n",
       "      <td>ALPINE</td>\n",
       "      <td>3</td>\n",
       "      <td>NaN</td>\n",
       "    </tr>\n",
       "    <tr>\n",
       "      <th>4</th>\n",
       "      <td>2020-05-04 04:00:00</td>\n",
       "      <td>01 OZONE PPM</td>\n",
       "      <td>ALPINE</td>\n",
       "      <td>4</td>\n",
       "      <td>0.043</td>\n",
       "    </tr>\n",
       "  </tbody>\n",
       "</table>\n",
       "</div>"
      ],
      "text/plain": [
       "                 date     Parameter SiteName hour  value\n",
       "0 2020-05-04 00:00:00  01 OZONE PPM   ALPINE    0  0.029\n",
       "1 2020-05-04 01:00:00  01 OZONE PPM   ALPINE    1  0.034\n",
       "2 2020-05-04 02:00:00  01 OZONE PPM   ALPINE    2    NaN\n",
       "3 2020-05-04 03:00:00  01 OZONE PPM   ALPINE    3    NaN\n",
       "4 2020-05-04 04:00:00  01 OZONE PPM   ALPINE    4  0.043"
      ]
     },
     "execution_count": 7,
     "metadata": {},
     "output_type": "execute_result"
    }
   ],
   "source": [
    "hourly['value'] = pd.to_numeric(hourly.value, errors='coerce')\n",
    "hourly.head()"
   ]
  },
  {
   "cell_type": "code",
   "execution_count": 10,
   "metadata": {},
   "outputs": [],
   "source": [
    "hourly.to_csv('../data/hourly_pollution.csv', index=False)\n",
    "daily.to_csv('../data/daily_pollution.csv', index=False)"
   ]
  },
  {
   "cell_type": "code",
   "execution_count": null,
   "metadata": {},
   "outputs": [],
   "source": [
    "hourly.Parameter.value_counts().sort_index()"
   ]
  },
  {
   "cell_type": "code",
   "execution_count": null,
   "metadata": {},
   "outputs": [],
   "source": [
    "hourly.SiteName.value_counts()"
   ]
  },
  {
   "cell_type": "code",
   "execution_count": null,
   "metadata": {},
   "outputs": [],
   "source": [
    "fig, ax = plt.subplots(figsize=(16,4))\n",
    "dtn_nox = hourly[(hourly.SiteName == 'KEARNY MESA') & (hourly.Parameter == '02 NOX PPM')]\n",
    "t = dtn_nox.set_index('date').value.resample('W').mean().dropna()\n",
    "\n",
    "smoothed = lowess(t,  t.index, .04)\n",
    "\n",
    "sns.lineplot(t.index, smoothed[:,1], ax=ax)\n",
    "sns.scatterplot(t.index, t, ax=ax)"
   ]
  },
  {
   "cell_type": "code",
   "execution_count": null,
   "metadata": {},
   "outputs": [],
   "source": [
    "fig, ax = plt.subplots(figsize=(16,4))\n",
    "sns.lineplot(t.index, smoothed[:,1], ax=ax)\n",
    "sns.scatterplot(t.index, t, ax=ax)\n",
    "ax.set_xlim('2017-11-01', '2018-06-01')"
   ]
  }
 ],
 "metadata": {
  "kernelspec": {
   "display_name": "Python 3",
   "language": "python",
   "name": "python3"
  },
  "language_info": {
   "codemirror_mode": {
    "name": "ipython",
    "version": 3
   },
   "file_extension": ".py",
   "mimetype": "text/x-python",
   "name": "python",
   "nbconvert_exporter": "python",
   "pygments_lexer": "ipython3",
   "version": "3.6.9"
  }
 },
 "nbformat": 4,
 "nbformat_minor": 4
}
