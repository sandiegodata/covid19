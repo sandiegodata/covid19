{
 "cells": [
  {
   "cell_type": "raw",
   "metadata": {
    "tags": [
     "frontmatter"
    ]
   },
   "source": [
    "show_input: hide \n",
    "github: \n",
    "featured_image: \n",
    "authors: \n",
    "- email: eric@civicknowledge.com \n",
    "name: Eric Busboom \n",
    "organization: Civic Knowledge \n",
    "type: Analyst \n",
    "tags: \n",
    "- covid19 \n",
    "categories: \n",
    "- Health\n",
    "identifier: f303fd3d-24b3-424c-b1fa-6f590fcb0b5b"
   ]
  },
  {
   "cell_type": "markdown",
   "metadata": {
    "tags": [
     "Title"
    ]
   },
   "source": [
    "## Testing Won't Save Us"
   ]
  },
  {
   "cell_type": "markdown",
   "metadata": {
    "tags": [
     "Description"
    ]
   },
   "source": [
    "Testing will not save us\n"
   ]
  },
  {
   "cell_type": "code",
   "execution_count": 7,
   "metadata": {},
   "outputs": [],
   "source": [
    "import sys\n",
    "# Install required packages\n",
    "!{sys.executable} -mpip -q install matplotlib seaborn statsmodels pandas publicdata metapack\n",
    "\n",
    "%matplotlib inline\n",
    "\n",
    "import pandas as pd\n",
    "import geopandas as gpd\n",
    "import numpy as np\n",
    "import metapack as mp\n",
    "import rowgenerators as rg\n",
    "import publicdata as pub\n",
    "import matplotlib.pyplot as plt\n",
    "import seaborn as sns\n",
    "sns.set(color_codes=True)"
   ]
  },
  {
   "cell_type": "code",
   "execution_count": 18,
   "metadata": {},
   "outputs": [
    {
     "data": {
      "text/html": [
       "<div>\n",
       "<style scoped>\n",
       "    .dataframe tbody tr th:only-of-type {\n",
       "        vertical-align: middle;\n",
       "    }\n",
       "\n",
       "    .dataframe tbody tr th {\n",
       "        vertical-align: top;\n",
       "    }\n",
       "\n",
       "    .dataframe thead th {\n",
       "        text-align: right;\n",
       "    }\n",
       "</style>\n",
       "<table border=\"1\" class=\"dataframe\">\n",
       "  <thead>\n",
       "    <tr style=\"text-align: right;\">\n",
       "      <th></th>\n",
       "      <th>date</th>\n",
       "      <th>state</th>\n",
       "      <th>positive</th>\n",
       "      <th>negative</th>\n",
       "      <th>pending</th>\n",
       "      <th>hospitalized</th>\n",
       "      <th>death</th>\n",
       "      <th>total</th>\n",
       "      <th>datechecked</th>\n",
       "      <th>totaltestresults</th>\n",
       "      <th>deathincrease</th>\n",
       "      <th>hospitalizedincrease</th>\n",
       "      <th>negativeincrease</th>\n",
       "      <th>positiveincrease</th>\n",
       "      <th>totaltestresultsincrease</th>\n",
       "    </tr>\n",
       "  </thead>\n",
       "  <tbody>\n",
       "    <tr>\n",
       "      <th>0</th>\n",
       "      <td>20200326</td>\n",
       "      <td>AK</td>\n",
       "      <td>59.0</td>\n",
       "      <td>1801.0</td>\n",
       "      <td>NaN</td>\n",
       "      <td>3.0</td>\n",
       "      <td>1.0</td>\n",
       "      <td>1860</td>\n",
       "      <td>2020-03-26 20:00:00</td>\n",
       "      <td>1860</td>\n",
       "      <td>0.0</td>\n",
       "      <td>2.0</td>\n",
       "      <td>152.0</td>\n",
       "      <td>17.0</td>\n",
       "      <td>169.0</td>\n",
       "    </tr>\n",
       "    <tr>\n",
       "      <th>1</th>\n",
       "      <td>20200326</td>\n",
       "      <td>AL</td>\n",
       "      <td>506.0</td>\n",
       "      <td>3593.0</td>\n",
       "      <td>NaN</td>\n",
       "      <td>NaN</td>\n",
       "      <td>1.0</td>\n",
       "      <td>4099</td>\n",
       "      <td>2020-03-26 20:00:00</td>\n",
       "      <td>4099</td>\n",
       "      <td>1.0</td>\n",
       "      <td>0.0</td>\n",
       "      <td>1064.0</td>\n",
       "      <td>223.0</td>\n",
       "      <td>1287.0</td>\n",
       "    </tr>\n",
       "    <tr>\n",
       "      <th>2</th>\n",
       "      <td>20200326</td>\n",
       "      <td>AR</td>\n",
       "      <td>335.0</td>\n",
       "      <td>1504.0</td>\n",
       "      <td>0.0</td>\n",
       "      <td>41.0</td>\n",
       "      <td>3.0</td>\n",
       "      <td>1839</td>\n",
       "      <td>2020-03-26 20:00:00</td>\n",
       "      <td>1839</td>\n",
       "      <td>1.0</td>\n",
       "      <td>19.0</td>\n",
       "      <td>67.0</td>\n",
       "      <td>55.0</td>\n",
       "      <td>122.0</td>\n",
       "    </tr>\n",
       "    <tr>\n",
       "      <th>3</th>\n",
       "      <td>20200326</td>\n",
       "      <td>AS</td>\n",
       "      <td>0.0</td>\n",
       "      <td>NaN</td>\n",
       "      <td>NaN</td>\n",
       "      <td>NaN</td>\n",
       "      <td>0.0</td>\n",
       "      <td>0</td>\n",
       "      <td>2020-03-26 20:00:00</td>\n",
       "      <td>0</td>\n",
       "      <td>0.0</td>\n",
       "      <td>0.0</td>\n",
       "      <td>0.0</td>\n",
       "      <td>0.0</td>\n",
       "      <td>0.0</td>\n",
       "    </tr>\n",
       "    <tr>\n",
       "      <th>4</th>\n",
       "      <td>20200326</td>\n",
       "      <td>AZ</td>\n",
       "      <td>577.0</td>\n",
       "      <td>347.0</td>\n",
       "      <td>33.0</td>\n",
       "      <td>66.0</td>\n",
       "      <td>8.0</td>\n",
       "      <td>957</td>\n",
       "      <td>2020-03-26 20:00:00</td>\n",
       "      <td>924</td>\n",
       "      <td>2.0</td>\n",
       "      <td>58.0</td>\n",
       "      <td>24.0</td>\n",
       "      <td>127.0</td>\n",
       "      <td>151.0</td>\n",
       "    </tr>\n",
       "  </tbody>\n",
       "</table>\n",
       "</div>"
      ],
      "text/plain": [
       "       date state  positive  negative  pending  hospitalized  death  total  \\\n",
       "0  20200326    AK      59.0    1801.0      NaN           3.0    1.0   1860   \n",
       "1  20200326    AL     506.0    3593.0      NaN           NaN    1.0   4099   \n",
       "2  20200326    AR     335.0    1504.0      0.0          41.0    3.0   1839   \n",
       "3  20200326    AS       0.0       NaN      NaN           NaN    0.0      0   \n",
       "4  20200326    AZ     577.0     347.0     33.0          66.0    8.0    957   \n",
       "\n",
       "          datechecked  totaltestresults  deathincrease  hospitalizedincrease  \\\n",
       "0 2020-03-26 20:00:00              1860            0.0                   2.0   \n",
       "1 2020-03-26 20:00:00              4099            1.0                   0.0   \n",
       "2 2020-03-26 20:00:00              1839            1.0                  19.0   \n",
       "3 2020-03-26 20:00:00                 0            0.0                   0.0   \n",
       "4 2020-03-26 20:00:00               924            2.0                  58.0   \n",
       "\n",
       "   negativeincrease  positiveincrease  totaltestresultsincrease  \n",
       "0             152.0              17.0                     169.0  \n",
       "1            1064.0             223.0                    1287.0  \n",
       "2              67.0              55.0                     122.0  \n",
       "3               0.0               0.0                       0.0  \n",
       "4              24.0             127.0                     151.0  "
      ]
     },
     "execution_count": 18,
     "metadata": {},
     "output_type": "execute_result"
    }
   ],
   "source": [
    "import metapack as mp\n",
    "pkg = mp.open_package('http://library.metatab.org/covidtracking.com-covid19-1.2.5.csv')\n",
    "\n",
    "states_df = pkg.resource('states').dataframe()\n",
    "states_df.head()"
   ]
  },
  {
   "cell_type": "code",
   "execution_count": 43,
   "metadata": {},
   "outputs": [],
   "source": [
    "# 6 states with the most tests\n",
    "states = list(states_df.groupby('state').totaltestresults.mean().sort_values(ascending=False).iloc[:6].index)"
   ]
  },
  {
   "cell_type": "code",
   "execution_count": 45,
   "metadata": {},
   "outputs": [
    {
     "data": {
      "text/plain": [
       "<matplotlib.axes._subplots.AxesSubplot at 0x7fc8a89ad828>"
      ]
     },
     "execution_count": 45,
     "metadata": {},
     "output_type": "execute_result"
    },
    {
     "data": {
      "image/png": "[encoded data removed]",
      "text/plain": [
       "<Figure size 432x288 with 1 Axes>"
      ]
     },
     "metadata": {},
     "output_type": "display_data"
    }
   ],
   "source": [
    "t = states_df.groupby('date').sum().reset_index()\n",
    "t.plot(x='date',y=['positive','negative','totaltestresults'])"
   ]
  },
  {
   "cell_type": "code",
   "execution_count": 50,
   "metadata": {},
   "outputs": [
    {
     "data": {
      "text/plain": [
       "<matplotlib.axes._subplots.AxesSubplot at 0x7fc8a89c50b8>"
      ]
     },
     "execution_count": 50,
     "metadata": {},
     "output_type": "execute_result"
    },
    {
     "data": {
      "image/png": "[encoded data removed]",
      "text/plain": [
       "<Figure size 1080x576 with 1 Axes>"
      ]
     },
     "metadata": {},
     "output_type": "display_data"
    }
   ],
   "source": [
    "t = states_df[['date', 'state', 'positive', 'negative', 'pending', 'hospitalized','death', 'totaltestresults','total']].copy()\n",
    "\n",
    "fig, ax = plt.subplots(figsize=(15,8))\n",
    "sns.scatterplot(x='positive',y='negative',data=t[t.state.isin(states)], hue='state', ax=ax)"
   ]
  },
  {
   "cell_type": "code",
   "execution_count": 65,
   "metadata": {},
   "outputs": [
    {
     "data": {
      "text/html": [
       "<div>\n",
       "<style scoped>\n",
       "    .dataframe tbody tr th:only-of-type {\n",
       "        vertical-align: middle;\n",
       "    }\n",
       "\n",
       "    .dataframe tbody tr th {\n",
       "        vertical-align: top;\n",
       "    }\n",
       "\n",
       "    .dataframe thead th {\n",
       "        text-align: right;\n",
       "    }\n",
       "</style>\n",
       "<table border=\"1\" class=\"dataframe\">\n",
       "  <thead>\n",
       "    <tr style=\"text-align: right;\">\n",
       "      <th></th>\n",
       "      <th>negative</th>\n",
       "    </tr>\n",
       "  </thead>\n",
       "  <tbody>\n",
       "    <tr>\n",
       "      <th>count</th>\n",
       "      <td>53.000000</td>\n",
       "    </tr>\n",
       "    <tr>\n",
       "      <th>mean</th>\n",
       "      <td>0.934583</td>\n",
       "    </tr>\n",
       "    <tr>\n",
       "      <th>std</th>\n",
       "      <td>0.114977</td>\n",
       "    </tr>\n",
       "    <tr>\n",
       "      <th>min</th>\n",
       "      <td>0.376827</td>\n",
       "    </tr>\n",
       "    <tr>\n",
       "      <th>25%</th>\n",
       "      <td>0.937244</td>\n",
       "    </tr>\n",
       "    <tr>\n",
       "      <th>50%</th>\n",
       "      <td>0.974692</td>\n",
       "    </tr>\n",
       "    <tr>\n",
       "      <th>75%</th>\n",
       "      <td>0.987924</td>\n",
       "    </tr>\n",
       "    <tr>\n",
       "      <th>max</th>\n",
       "      <td>0.999287</td>\n",
       "    </tr>\n",
       "  </tbody>\n",
       "</table>\n",
       "</div>"
      ],
      "text/plain": [
       "        negative\n",
       "count  53.000000\n",
       "mean    0.934583\n",
       "std     0.114977\n",
       "min     0.376827\n",
       "25%     0.937244\n",
       "50%     0.974692\n",
       "75%     0.987924\n",
       "max     0.999287"
      ]
     },
     "execution_count": 65,
     "metadata": {},
     "output_type": "execute_result"
    }
   ],
   "source": [
    "t = states_df[['date', 'state', 'positive', 'negative', 'pending', 'hospitalized','death', 'totaltestresults','total']].copy()\n",
    "t = t[['state','positive','negative']].groupby('state').corr().unstack()\n",
    "t.columns = t.columns.get_level_values(0)\n",
    "t.iloc[:,1].to_frame().describe()\n",
    "\n"
   ]
  },
  {
   "cell_type": "code",
   "execution_count": null,
   "metadata": {},
   "outputs": [],
   "source": []
  }
 ],
 "metadata": {
  "celltoolbar": "Tags",
  "kernelspec": {
   "display_name": "Python 3",
   "language": "python",
   "name": "python3"
  },
  "language_info": {
   "codemirror_mode": {
    "name": "ipython",
    "version": 3
   },
   "file_extension": ".py",
   "mimetype": "text/x-python",
   "name": "python",
   "nbconvert_exporter": "python",
   "pygments_lexer": "ipython3",
   "version": "3.6.9"
  }
 },
 "nbformat": 4,
 "nbformat_minor": 4
}
