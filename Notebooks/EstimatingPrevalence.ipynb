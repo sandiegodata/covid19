{
 "cells": [
  {
   "cell_type": "raw",
   "metadata": {
    "tags": [
     "frontmatter"
    ]
   },
   "source": [
    "show_input: hide\n",
    "github: \n",
    "featured_image: 189\n",
    "authors:\n",
    "- email: eric@civicknowledge.com\n",
    "  name: Eric Busboom\n",
    "  organization: Civic Knowledge\n",
    "  type: Analyst\n",
    "tags:\n",
    "- Untagged\n",
    "categories:\n",
    "- Uncategorized"
   ]
  },
  {
   "cell_type": "markdown",
   "metadata": {
    "tags": [
     "Title"
    ]
   },
   "source": [
    "## Estimating True COVID-19 Prevalence"
   ]
  },
  {
   "cell_type": "markdown",
   "metadata": {
    "tags": [
     "Description"
    ]
   },
   "source": [
    "Description\n"
   ]
  },
  {
   "cell_type": "code",
   "execution_count": 3,
   "metadata": {},
   "outputs": [],
   "source": [
    "import sys\n",
    "# Install required packages\n",
    "!{sys.executable} -mpip -q install matplotlib seaborn statsmodels pandas publicdata metapack\n",
    "\n",
    "%matplotlib inline\n",
    "\n",
    "import pandas as pd\n",
    "import geopandas as gpd\n",
    "import numpy as np\n",
    "import metapack as mp\n",
    "import rowgenerators as rg\n",
    "import publicdata as pub\n",
    "import matplotlib.pyplot as plt\n",
    "import seaborn as sns\n",
    "sns.set(color_codes=True)"
   ]
  },
  {
   "cell_type": "markdown",
   "metadata": {},
   "source": [
    "http://www.robertkubinec.com/post/kubinec_model_draft/\n",
    "http://systrom.com/"
   ]
  },
  {
   "cell_type": "markdown",
   "metadata": {},
   "source": [
    "\n",
    "Li, Ruiyun, et al (1) \" We estimate 86% of all infections were undocumented (95% CI: [82%–90%]) prior to 23 January 2020 travel restrictions.\" Kubinec (2), using a statistical model estimates that about 88% of infections are undocumented. \n",
    "\n",
    "Dawei et all (3) report that the median times from first symptoms to major events are: \n",
    "<table>\n",
    "    <tr>\n",
    "        <th>Event</th>\n",
    "        <th>Time (Days)</th>\n",
    "        <th>From</th>\n",
    "    </tr>\n",
    "    <tr>\n",
    "        <td>dyspnea</td>\n",
    "        <td>5.0</td>\n",
    "        <td>onset of symptoms</td>\n",
    "    </tr>\n",
    "    <tr>\n",
    "        <td>hospital admission</td>\n",
    "        <td>7.0</td>\n",
    "        <td>onset of symptoms</td>\n",
    "    </tr>\n",
    "    <tr>\n",
    "        <td>ARDS</td>\n",
    "        <td>8.0</td>\n",
    "        <td>onset of symptoms</td>\n",
    "    </tr>\n",
    "    <tr>\n",
    "        <td>hospital discharge</td>\n",
    "        <td>10 (IQR 7.0-14.0)</td>\n",
    "        <td>from addmission</td>\n",
    "</table>\n",
    "\n",
    " Linton, Natalie M., et al. (5) reports, for cases in Wuhan, China, : \n",
    " \n",
    " <table>\n",
    "    <tr>\n",
    "        <th>From</th>\n",
    "        <th>To</th>\n",
    "        <th>Time (Days)</th>\n",
    "    </tr>\n",
    "    <tr>\n",
    "        <td>Exposure</td>\n",
    "        <td>Infection or onset? (Incubation Period)</td>\n",
    "        <td>5 (95% CI 2-14)\n",
    "    </tr>\n",
    "    <tr>\n",
    "        <td>onset</td>\n",
    "        <td>Hospitalization</td>\n",
    "        <td>3-4 no truncation, 5-9 right truncation.</td>\n",
    "    </tr>\n",
    "    <tr>\n",
    "        <td>onset</td>\n",
    "        <td>death</td>\n",
    "        <td>13 / 17 right truncation (95% CI 13.5 24.1)</td>\n",
    "    </tr>\n",
    "    <tr>\n",
    "        <td></td>\n",
    "        <td></td>\n",
    "        <td></td>\n",
    "    </tr>\n",
    "</table>\n",
    "\n",
    "Wilson (4) reports: \n",
    "    \n",
    "> We estimated the case-fatality risk for 2019 novel coronavirus disease cases in China (3.5%); China, excluding Hubei Province (0.8%); 82 countries, territories, and areas (4.2%); and on a cruise ship (0.6%). Lower estimates might be closest to the true value, but a broad range of 0.25%-3.0% probably should be considered. \n",
    "  \n",
    "Wilson estimates the case fatality rate at 0.25% to 3.0%.\n",
    " \n",
    "IHME repot\n",
    "\n",
    "> To determine daily bed and ICU occupancy and ventilator use, we applied median lengths of stay of 12 days based on the analysis of available unit record data and 8 days for those admissions with ICU care.37\n",
    " \n",
    "For this study, we'll use these parameters: \n",
    "\n",
    "* Exposure to onset: 5 days ( 95%CI 2-14)\n",
    "* Onset to hospitalization: 5 days\n",
    "* Onset to death: 17 days, (95% CI 13.5 24.1)\n",
    "    \n",
    "A parameter that we don't have is when testing occurs relative to onset or hospitalization. \n",
    "    "
   ]
  },
  {
   "cell_type": "markdown",
   "metadata": {},
   "source": [
    "The IHME projection (6) models the culumative dealths with a parameterized Gaussian error function. "
   ]
  },
  {
   "cell_type": "markdown",
   "metadata": {},
   "source": [
    "# References\n",
    "\n",
    "1: Li, Ruiyun, et al. “[Substantial Undocumented Infection Facilitates the Rapid Dissemination of Novel Coronavirus (SARS-CoV2).](https://science.sciencemag.org/content/sci/early/2020/03/13/science.abb3221.full.pdf)” Science, Mar. 2020, p. eabb3221. DOI.org (Crossref), doi:10.1126/science.abb3221.\n",
    "\n",
    "2: Kubinec, Robert. A Proposed Model for Partial Identification of SARS-CoV2 Infection Rates Given Observed Tests and Cases. http://www.robertkubinec.com/post/kubinec_model_draft/. Accessed 28 Mar. 2020.\n",
    "\n",
    "3: Wang, Dawei, et al. “[Clinical Characteristics of 138 Hospitalized Patients With 2019 Novel Coronavirus–Infected Pneumonia in Wuhan, China.](https://jamanetwork.com/journals/jama/articlepdf/2761044/jama_wang_2020_oi_200019.pdf)” JAMA, vol. 323, no. 11, Mar. 2020, pp. 1061–69, doi:10.1001/jama.2020.1585.\n",
    "\n",
    "4: Nick Wilson, et al. “[Case-Fatality Risk Estimates for COVID-19 Calculated by Using a Lag Time for Fatality.](https://wwwnc.cdc.gov/eid/article/26/6/20-0320_article” Emerging Infectious Disease Journal, vol. 26, no. 6, 2020, doi:10.3201/eid2606.200320.\n",
    "\n",
    "5: Linton, Natalie M., et al. “[Incubation Period and Other Epidemiological Characteristics of 2019 Novel Coronavirus Infections with Right Truncation: A Statistical Analysis of Publicly Available Case Data.](https://www.mdpi.com/2077-0383/9/2/538)” Journal of Clinical Medicine, vol. 9, no. 2, 2, Multidisciplinary Digital Publishing Institute, Feb. 2020, p. 538. www.mdpi.com, doi:10.3390/jcm9020538.\n",
    "    5a: Support tables: http://www.mdpi.com/2077-0383/9/2/538/s1\n",
    "\n",
    "6: [IHME COVID-19 health service utilization forecasting team, and Christopher JL Murray. Forecasting COVID-19 Impact on Hospital Bed-Days, ICU-Days, Ventilator-Days and Deaths by US State in the next 4 Months](http://www.healthdata.org/sites/default/files/files/research_articles/2020/COVID-forecasting-03252020_4.pdf). preprint, Infectious Diseases (except HIV/AIDS), 30 Mar. 2020. DOI.org (Crossref), doi:10.1101/2020.03.27.20043752.\n",
    "\n",
    "    \n",
    "\n"
   ]
  },
  {
   "cell_type": "code",
   "execution_count": 4,
   "metadata": {},
   "outputs": [],
   "source": []
  },
  {
   "cell_type": "code",
   "execution_count": 30,
   "metadata": {},
   "outputs": [
    {
     "name": "stdout",
     "output_type": "stream",
     "text": [
      "(13.091523815567717, 23.926117904908672)\n"
     ]
    },
    {
     "data": {
      "image/png": "[encoded data removed]",
      "text/plain": [
       "<Figure size 432x288 with 1 Axes>"
      ]
     },
     "metadata": {
      "needs_background": "light"
     },
     "output_type": "display_data"
    }
   ],
   "source": [
    "from scipy.stats import lognorm\n",
    "\n",
    "fig, ax = plt.subplots(1, 1)\n",
    "s = 1.22\n",
    "l = 13\n",
    "x = np.linspace(lognorm.ppf(0.01, s=s, loc=l),\n",
    "                lognorm.ppf(0.99, s=s, loc=l), 100)\n",
    "y = lognorm.pdf(x, s=s, loc=l)\n",
    "ax.plot(x, y,'r-', lw=5, alpha=0.6, label='lognorm pdf')\n",
    "print(lognorm.interval(.95, s, loc=l, scale=1))"
   ]
  },
  {
   "cell_type": "code",
   "execution_count": 33,
   "metadata": {},
   "outputs": [
    {
     "name": "stdout",
     "output_type": "stream",
     "text": [
      "(0.6126319102145892, 1.6323015228666846)\n"
     ]
    },
    {
     "data": {
      "image/png": "[encoded data removed]",
      "text/plain": [
       "<Figure size 432x288 with 1 Axes>"
      ]
     },
     "metadata": {
      "needs_background": "light"
     },
     "output_type": "display_data"
    }
   ],
   "source": [
    "fig, ax = plt.subplots(1, 1)\n",
    "s = .25\n",
    "l = 0\n",
    "x = np.linspace(lognorm.ppf(0.01, s=s, loc=l),\n",
    "                lognorm.ppf(0.99, s=s, loc=l), 100)\n",
    "y = lognorm.pdf(x, s=s, loc=l)\n",
    "ax.plot(x, np.exp(y),'r-', lw=5, alpha=0.6, label='lognorm pdf')\n",
    "print(lognorm.interval(.95, s, loc=l, scale=1))"
   ]
  },
  {
   "cell_type": "code",
   "execution_count": null,
   "metadata": {},
   "outputs": [],
   "source": []
  }
 ],
 "metadata": {
  "celltoolbar": "Tags",
  "kernelspec": {
   "display_name": "Python 3",
   "language": "python",
   "name": "python3"
  },
  "language_info": {
   "codemirror_mode": {
    "name": "ipython",
    "version": 3
   },
   "file_extension": ".py",
   "mimetype": "text/x-python",
   "name": "python",
   "nbconvert_exporter": "python",
   "pygments_lexer": "ipython3",
   "version": "3.6.9"
  }
 },
 "nbformat": 4,
 "nbformat_minor": 4
}
