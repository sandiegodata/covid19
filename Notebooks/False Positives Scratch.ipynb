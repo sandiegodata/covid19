{
 "cells": [
  {
   "cell_type": "code",
   "execution_count": 1,
   "metadata": {},
   "outputs": [],
   "source": [
    "import pandas as pd"
   ]
  },
  {
   "cell_type": "markdown",
   "metadata": {},
   "source": [
    "$$\\begin{array}{ll}\n",
    "\\mathit{TP} = Pp\\mathit{Sn} & \\text{}\\\\ \n",
    "\\mathit{FP} = P(1-p)(1-\\mathit{Sp}) \\text{}\\\\ \n",
    "\\mathit{TN} = P(1-p)\\mathit{Sp} & \\text{}\\\\ \n",
    "\\mathit{FN} = Pp(1-\\mathit{Sn})& \\text{}\\\\ \n",
    "\\end{array}$$\n",
    "\n",
    "$$\\mathit{TPR} = \\frac{\\mathit{TP} }{ \\mathit{TP} +\\mathit{FP}  } $$\n",
    "\n",
    "Which expands to:\n",
    "\n",
    "$$\\mathit{TPR} = \\frac{p\\mathit{Sn} }{ p\\mathit{Sn} + (1-p)(1-\\mathit{Sp})  } $$"
   ]
  },
  {
   "cell_type": "code",
   "execution_count": 26,
   "metadata": {},
   "outputs": [
    {
     "data": {
      "text/html": [
       "<div>\n",
       "<style scoped>\n",
       "    .dataframe tbody tr th:only-of-type {\n",
       "        vertical-align: middle;\n",
       "    }\n",
       "\n",
       "    .dataframe tbody tr th {\n",
       "        vertical-align: top;\n",
       "    }\n",
       "\n",
       "    .dataframe thead th {\n",
       "        text-align: right;\n",
       "    }\n",
       "</style>\n",
       "<table border=\"1\" class=\"dataframe\">\n",
       "  <thead>\n",
       "    <tr style=\"text-align: right;\">\n",
       "      <th></th>\n",
       "      <th>N</th>\n",
       "      <th>%</th>\n",
       "    </tr>\n",
       "    <tr>\n",
       "      <th>Metric</th>\n",
       "      <th></th>\n",
       "      <th></th>\n",
       "    </tr>\n",
       "  </thead>\n",
       "  <tbody>\n",
       "    <tr>\n",
       "      <th>True Positive</th>\n",
       "      <td>588</td>\n",
       "      <td>1.96</td>\n",
       "    </tr>\n",
       "    <tr>\n",
       "      <th>False Positive</th>\n",
       "      <td>588</td>\n",
       "      <td>1.96</td>\n",
       "    </tr>\n",
       "    <tr>\n",
       "      <th>True Negative</th>\n",
       "      <td>28812</td>\n",
       "      <td>96.04</td>\n",
       "    </tr>\n",
       "    <tr>\n",
       "      <th>False Negative</th>\n",
       "      <td>12</td>\n",
       "      <td>0.04</td>\n",
       "    </tr>\n",
       "    <tr>\n",
       "      <th>Positive Predictive Value</th>\n",
       "      <td></td>\n",
       "      <td>50.00</td>\n",
       "    </tr>\n",
       "  </tbody>\n",
       "</table>\n",
       "</div>"
      ],
      "text/plain": [
       "                               N      %\n",
       "Metric                                 \n",
       "True Positive                588   1.96\n",
       "False Positive               588   1.96\n",
       "True Negative              28812  96.04\n",
       "False Negative                12   0.04\n",
       "Positive Predictive Value         50.00"
      ]
     },
     "execution_count": 26,
     "metadata": {},
     "output_type": "execute_result"
    }
   ],
   "source": [
    "import numpy as np \n",
    "\n",
    "P = 30_000\n",
    "p = 0.02\n",
    "Sn = .98\n",
    "Sp = .98\n",
    "\n",
    "\n",
    "def calc_tpr(P, p, Sn, Sp):\n",
    "    TP = P*p*Sn\n",
    "    FP = P*(1-p)*(1-Sp)\n",
    "    TN = P*(1-p)*Sp\n",
    "    FN = P*p*(1-Sn)\n",
    "\n",
    "    Sp_ = TP / (TP+FN)\n",
    "    assert(Sp_ == Sp)\n",
    "\n",
    "    a = [\n",
    "        ['True Positive', TP, TP/P],\n",
    "        ['False Positive', FP, FP/P],\n",
    "        ['True Negative', TN, TN/P],\n",
    "        ['False Negative', FN, FN/P],\n",
    "        ['Positive Predictive Value', '', TP / (TP+FP)]\n",
    "        \n",
    "    ]\n",
    "    \n",
    "    df = pd.DataFrame(a, columns=['Metric','N','%'])\n",
    "    df['%'] = (df['%']*100).round(2)\n",
    "    return df.set_index('Metric')\n",
    "\n",
    "calc_tpr(P, p, Sn, Sp)\n"
   ]
  },
  {
   "cell_type": "code",
   "execution_count": 10,
   "metadata": {},
   "outputs": [
    {
     "data": {
      "text/plain": [
       "0.038"
      ]
     },
     "execution_count": 10,
     "metadata": {},
     "output_type": "execute_result"
    }
   ],
   "source": [
    "1140 / 30_000"
   ]
  },
  {
   "cell_type": "code",
   "execution_count": null,
   "metadata": {},
   "outputs": [],
   "source": []
  }
 ],
 "metadata": {
  "kernelspec": {
   "display_name": "Python 3",
   "language": "python",
   "name": "python3"
  },
  "language_info": {
   "codemirror_mode": {
    "name": "ipython",
    "version": 3
   },
   "file_extension": ".py",
   "mimetype": "text/x-python",
   "name": "python",
   "nbconvert_exporter": "python",
   "pygments_lexer": "ipython3",
   "version": "3.6.9"
  }
 },
 "nbformat": 4,
 "nbformat_minor": 4
}
